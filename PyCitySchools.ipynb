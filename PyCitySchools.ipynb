{
 "cells": [
  {
   "cell_type": "code",
   "execution_count": null,
   "id": "c7ed32ae",
   "metadata": {},
   "outputs": [],
   "source": [
    "# Add panda dependency\n",
    "import pandas as pd"
   ]
  },
  {
   "cell_type": "code",
   "execution_count": null,
   "id": "523ef5a7",
   "metadata": {},
   "outputs": [],
   "source": [
    "school_data_to_load = \"Resources/schools_complete.csv\"\n",
    "student_data_to_load = \"Resources/students_complete.csv\""
   ]
  },
  {
   "cell_type": "code",
   "execution_count": null,
   "id": "93aade01",
   "metadata": {},
   "outputs": [],
   "source": [
    "# Read the school file and store it in a Pandas DataFrame\n",
    "school_data = pd.read_csv(school_data_to_load)\n",
    "school_data"
   ]
  },
  {
   "cell_type": "code",
   "execution_count": null,
   "id": "3f6a473d",
   "metadata": {},
   "outputs": [],
   "source": [
    "#Read the student file and store it in a Pandas DataFrame\n",
    "student_data = pd.read_csv(student_data_to_load)\n",
    "student_data.head()"
   ]
  },
  {
   "cell_type": "code",
   "execution_count": null,
   "id": "e0b15f34",
   "metadata": {},
   "outputs": [],
   "source": []
  }
 ],
 "metadata": {
  "kernelspec": {
   "display_name": "PythonData",
   "language": "python",
   "name": "pythondata"
  },
  "language_info": {
   "codemirror_mode": {
    "name": "ipython",
    "version": 3
   },
   "file_extension": ".py",
   "mimetype": "text/x-python",
   "name": "python",
   "nbconvert_exporter": "python",
   "pygments_lexer": "ipython3",
   "version": "3.7.11"
  }
 },
 "nbformat": 4,
 "nbformat_minor": 5
}
