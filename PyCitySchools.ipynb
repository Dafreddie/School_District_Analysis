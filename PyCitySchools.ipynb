{
 "cells": [
  {
   "cell_type": "code",
   "execution_count": null,
   "id": "6f6f7169",
   "metadata": {},
   "outputs": [],
   "source": [
    "# Add panda dependency\n",
    "import pandas as pd"
   ]
  },
  {
   "cell_type": "code",
   "execution_count": null,
   "id": "eddd9449",
   "metadata": {},
   "outputs": [],
   "source": [
    "school_data_to_load = \"Resources/schools_complete.csv\"\n",
    "student_data_to_load = \"Resources/students_complete.csv\""
   ]
  },
  {
   "cell_type": "code",
   "execution_count": null,
   "id": "150b8ff9",
   "metadata": {},
   "outputs": [],
   "source": [
    "# Read the school file and store it in a Pandas DataFrame\n",
    "school_data = pd.read_csv(school_data_to_load)\n",
    "school_data"
   ]
  },
  {
   "cell_type": "code",
   "execution_count": null,
   "id": "3b5d987c",
   "metadata": {},
   "outputs": [],
   "source": [
    "#Read the student file and store it in a Pandas DataFrame\n",
    "student_data = pd.read_csv(student_data_to_load)\n",
    "student_data.head()"
   ]
  },
  {
   "cell_type": "code",
   "execution_count": null,
   "id": "1f5c32a1",
   "metadata": {},
   "outputs": [],
   "source": [
    "# Determine if there are any missing values in the school data\n",
    "school_data.count()"
   ]
  },
  {
   "cell_type": "code",
   "execution_count": null,
   "id": "715af46b",
   "metadata": {},
   "outputs": [],
   "source": [
    "# Determine if there are any missing values in the student data\n",
    "student_data.count()"
   ]
  },
  {
   "cell_type": "code",
   "execution_count": null,
   "id": "83b018f2",
   "metadata": {},
   "outputs": [],
   "source": [
    "# Determine if there are any missing values in the school data\n",
    "school_data.isnull()"
   ]
  },
  {
   "cell_type": "code",
   "execution_count": null,
   "id": "797dc5a2",
   "metadata": {},
   "outputs": [],
   "source": [
    "# Determine if there are any missing values in the student data\n",
    "student_data.isnull().sum()"
   ]
  },
  {
   "cell_type": "code",
   "execution_count": null,
   "id": "d8734b90",
   "metadata": {},
   "outputs": [],
   "source": [
    "# Determine if there are any missing values in the student data\n",
    "student_data.notnull().sum()"
   ]
  },
  {
   "cell_type": "code",
   "execution_count": null,
   "id": "4f906e39",
   "metadata": {},
   "outputs": [],
   "source": [
    "# Determine data types for the school DataFrame\n",
    "school_data.dtypes"
   ]
  },
  {
   "cell_type": "code",
   "execution_count": null,
   "id": "f022aaf6",
   "metadata": {},
   "outputs": [],
   "source": [
    "# Determine data types for the student DataFrame\n",
    "student_data.dtypes"
   ]
  },
  {
   "cell_type": "code",
   "execution_count": null,
   "id": "fc3c2ef9",
   "metadata": {},
   "outputs": [],
   "source": [
    "# Add each prefix and suffix to remove to a list\n",
    "prefixes_suffixes = [\"Dr. \", \"Mr. \",\"Ms. \", \"Mrs. \", \"Miss \", \" MD\", \" DDS\", \" DVM\", \" PhD\"]\n",
    "\n",
    "# Iterate through the words in the \"prefixed_suffix\" list and replace them with an empty space, \"\"\n",
    "for word in prefixes_suffixes:\n",
    "    student_data[\"student_name\"] = student_data[\"student_name\"].str.replace(word, \"\")\n",
    "student_data.head(10)"
   ]
  },
  {
   "cell_type": "code",
   "execution_count": null,
   "id": "37641027",
   "metadata": {},
   "outputs": [],
   "source": []
  }
 ],
 "metadata": {
  "kernelspec": {
   "display_name": "PythonData",
   "language": "python",
   "name": "pythondata"
  },
  "language_info": {
   "codemirror_mode": {
    "name": "ipython",
    "version": 3
   },
   "file_extension": ".py",
   "mimetype": "text/x-python",
   "name": "python",
   "nbconvert_exporter": "python",
   "pygments_lexer": "ipython3",
   "version": "3.7.11"
  }
 },
 "nbformat": 4,
 "nbformat_minor": 5
}
